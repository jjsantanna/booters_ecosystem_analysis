{
 "cells": [
  {
   "cell_type": "code",
   "execution_count": null,
   "metadata": {
    "collapsed": true
   },
   "outputs": [],
   "source": [
    "import subprocess\n",
    "import os.path\n",
    "import random\n",
    "import time "
   ]
  },
  {
   "cell_type": "code",
   "execution_count": 5,
   "metadata": {},
   "outputs": [],
   "source": [
    "def teamcymru_ip2asn_bulk(pandaseries_ips, outputfile):\n",
    "    \n",
    "    if (os.path.exists('enrichments/'+outputfile)== False):\n",
    "        iptoasn_response = open('enrichments/'+outputfile, 'w')\n",
    "\n",
    "        #Creating the request file containing a list of IPs\n",
    "        iptoasn_request = open('temp_iptoasn_request.txt', 'w')\n",
    "        iptoasn_request.write('begin\\nverbose\\n')\n",
    "        pd.Series(pandaseries_ips.dropna().unique()).to_csv(iptoasn_request,header=False,index=False,sep=\"\\t\") \n",
    "        iptoasn_request.write('end')\n",
    "        iptoasn_request.close()\n",
    "\n",
    "        #Performing the bulk request\n",
    "        cat = subprocess.Popen(['cat', 'temp_iptoasn_request.txt'], stdout=subprocess.PIPE)\n",
    "        print(cat)\n",
    "        netcat = subprocess.Popen(['gnetcat', 'whois.cymru.com', '43'], stdin=cat.stdout, stdout=iptoasn_response)\n",
    "        print (netcat)\n",
    "        time.sleep(3) #for some reason the poll does not work! This was the way to overcome the waiting time.\n",
    "\n",
    "        #Closing the output file\n",
    "        iptoasn_response.close()\n",
    "        \n",
    "        !rm temp_iptoasn_request.txt\n",
    "    \n",
    "    else:\n",
    "        print(\"The list of domains was already checked.\")"
   ]
  },
  {
   "cell_type": "code",
   "execution_count": 8,
   "metadata": {},
   "outputs": [
    {
     "name": "stdout",
     "output_type": "stream",
     "text": [
      "teamcymru_ip2asn_bulk(pandaseries_ips, outputfile):\n",
      "   writes teamcymru bulk-request output  ('asn', 'ip', 'bgp_prefix', 'country','registry','info_date','as_name')  into outputfile \n",
      "   return None\n"
     ]
    }
   ],
   "source": [
    "print(\"teamcymru_ip2asn_bulk(pandaseries_ips, outputfile):\\n   writes teamcymru bulk-request output  ('asn', 'ip', 'bgp_prefix', 'country','registry','info_date','as_name')  into outputfile \\n   return None\")"
   ]
  },
  {
   "cell_type": "code",
   "execution_count": null,
   "metadata": {
    "collapsed": true
   },
   "outputs": [],
   "source": []
  }
 ],
 "metadata": {
  "kernelspec": {
   "display_name": "Python 3",
   "language": "python",
   "name": "python3"
  },
  "language_info": {
   "codemirror_mode": {
    "name": "ipython",
    "version": 3
   },
   "file_extension": ".py",
   "mimetype": "text/x-python",
   "name": "python",
   "nbconvert_exporter": "python",
   "pygments_lexer": "ipython3",
   "version": "3.6.2"
  }
 },
 "nbformat": 4,
 "nbformat_minor": 2
}
