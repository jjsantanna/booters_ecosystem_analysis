{
 "cells": [
  {
   "cell_type": "code",
   "execution_count": 4,
   "metadata": {
    "collapsed": true
   },
   "outputs": [],
   "source": [
    "import pythonwhois #https://pypi.python.org/pypi/pythonwhois\n",
    "\n",
    "# There are other libraries: whois, BulkWhois,pywhois, whoisclient (fork of python-whois)"
   ]
  },
  {
   "cell_type": "code",
   "execution_count": 7,
   "metadata": {
    "collapsed": true
   },
   "outputs": [],
   "source": [
    "def domain_whois_info(domain):\n",
    "    try:\n",
    "        whois_domain=pythonwhois.get_whois(domain)\n",
    "    except:\n",
    "        return 'nan;nan;nan;nan;nan;nan'\n",
    "    \n",
    "    try:\n",
    "        registration_date=whois_domain['creation_date'][0]\n",
    "    except:\n",
    "        registration_date='nan'\n",
    "    \n",
    "    try:\n",
    "        expiration_date=whois_domain['expiration_date'][0]\n",
    "    except:\n",
    "        expiration_date='nan'\n",
    "\n",
    "    try:\n",
    "        update_date=whois_domain['updated_date'][0]\n",
    "    except:\n",
    "        update_date='nan'\n",
    "        \n",
    "    try:\n",
    "        nameservers=','.join(whois_domain['nameservers'])\n",
    "    except:\n",
    "        nameservers='nan'\n",
    "    \n",
    "    try:\n",
    "        emails=','.join(whois_domain['emails'])\n",
    "    except:\n",
    "        emails='nan'\n",
    "    \n",
    "    try:\n",
    "        registrar=','.join(whois_domain['registrar'])\n",
    "    except:\n",
    "        registrar='nan'\n",
    "    \n",
    "    return str(registration_date)+\";\"+str(expiration_date)+\";\"+str(update_date)+\";\"+str(nameservers)+\";\"+str(emails)+\";\"+str(registrar)"
   ]
  },
  {
   "cell_type": "code",
   "execution_count": 11,
   "metadata": {},
   "outputs": [
    {
     "name": "stdout",
     "output_type": "stream",
     "text": [
      "domain_whois_info(domain):\n",
      "   return 'registration_date, expiration_date, update_date, nameservers, emails, registrar'\n"
     ]
    }
   ],
   "source": [
    "print(\"domain_whois_info(domain):\\n   return 'registration_date, expiration_date, update_date, nameservers, emails, registrar'\")"
   ]
  },
  {
   "cell_type": "code",
   "execution_count": null,
   "metadata": {
    "collapsed": true
   },
   "outputs": [],
   "source": []
  }
 ],
 "metadata": {
  "kernelspec": {
   "display_name": "Python 3",
   "language": "python",
   "name": "python3"
  },
  "language_info": {
   "codemirror_mode": {
    "name": "ipython",
    "version": 3
   },
   "file_extension": ".py",
   "mimetype": "text/x-python",
   "name": "python",
   "nbconvert_exporter": "python",
   "pygments_lexer": "ipython3",
   "version": "3.6.2"
  }
 },
 "nbformat": 4,
 "nbformat_minor": 2
}
