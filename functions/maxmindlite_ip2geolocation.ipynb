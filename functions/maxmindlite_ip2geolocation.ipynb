{
 "cells": [
  {
   "cell_type": "markdown",
   "metadata": {},
   "source": [
    "J.J. Kester;Comparing the Accuracy of IPv4 and IPv6 Geolocation Databases (http://referaat.cs.utwente.nl/conference/24/paper/7519/comparing-the-accuracy-of-ipv4-and-ipv6-geolocation-databases.pdf)"
   ]
  },
  {
   "cell_type": "code",
   "execution_count": 21,
   "metadata": {
    "collapsed": true
   },
   "outputs": [],
   "source": [
    "#using the free maxmind database (https://dev.maxmind.com/geoip/geoip2/geolite2/)\n",
    "import geoip2.database\n",
    "\n",
    "def maxmindlite_ip2geolocation(ip):\n",
    "    reader = geoip2.database.Reader('enrichments/GeoLite2-City.mmdb')\n",
    "    response = reader.city(ip)\n",
    "    output = str(response.country.iso_code)+';'+str(response.city.name)+';'+str(response.location.latitude)+';'+str(response.location.longitude) \n",
    "    return output\n",
    "    "
   ]
  },
  {
   "cell_type": "code",
   "execution_count": 19,
   "metadata": {},
   "outputs": [
    {
     "name": "stdout",
     "output_type": "stream",
     "text": [
      "maxmindlite_ip2geolocation(ip):\n",
      "   return country_isocode, city, latitude, longitude\n"
     ]
    }
   ],
   "source": [
    "print(\"maxmindlite_ip2geolocation(ip):\\n   return country_isocode, city, latitude, longitude\")"
   ]
  }
 ],
 "metadata": {
  "kernelspec": {
   "display_name": "Python 3",
   "language": "python",
   "name": "python3"
  },
  "language_info": {
   "codemirror_mode": {
    "name": "ipython",
    "version": 3
   },
   "file_extension": ".py",
   "mimetype": "text/x-python",
   "name": "python",
   "nbconvert_exporter": "python",
   "pygments_lexer": "ipython3",
   "version": "3.6.2"
  }
 },
 "nbformat": 4,
 "nbformat_minor": 2
}
