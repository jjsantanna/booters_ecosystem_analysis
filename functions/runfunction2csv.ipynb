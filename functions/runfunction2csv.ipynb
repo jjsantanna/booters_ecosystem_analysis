{
 "cells": [
  {
   "cell_type": "code",
   "execution_count": 1,
   "metadata": {
    "collapsed": true
   },
   "outputs": [],
   "source": [
    "def runfunction2csv (function, pandaseries, csv_name, log=True):\n",
    "    measurement_date=f\"{datetime.datetime.now():%Y%m%d}\"\n",
    "    \n",
    "    if (os.path.exists('enrichments/'+csv_name)== False):\n",
    "        f = open('enrichments/'+csv_name, 'w')\n",
    "        \n",
    "        for i in pandaseries.unique():\n",
    "            function_output=function(i)\n",
    "            \n",
    "            if log:\n",
    "                print(i,str(function_output),measurement_date,sep=';') \n",
    "\n",
    "            print(i,str(function_output),measurement_date,sep=';',file=f)\n",
    "            f.flush()\n",
    "        f.close()\n",
    "        \n",
    "    else:\n",
    "        print(\"The file already exists!\")"
   ]
  },
  {
   "cell_type": "code",
   "execution_count": 7,
   "metadata": {},
   "outputs": [
    {
     "name": "stdout",
     "output_type": "stream",
     "text": [
      "run_function2csv(function, pandasseries, csv_name.csv, log=True):\n",
      "   writes into csv_name.csv: 'pandaseries_element; function_output; year_month_day'\n",
      "   return None\n"
     ]
    }
   ],
   "source": [
    "print(\"run_function2csv(function, pandasseries, csv_name.csv, log=True):\\n   writes into csv_name.csv: \\'pandaseries_element; function_output; year_month_day\\'\\n   return None\")"
   ]
  }
 ],
 "metadata": {
  "kernelspec": {
   "display_name": "Python 3",
   "language": "python",
   "name": "python3"
  },
  "language_info": {
   "codemirror_mode": {
    "name": "ipython",
    "version": 3
   },
   "file_extension": ".py",
   "mimetype": "text/x-python",
   "name": "python",
   "nbconvert_exporter": "python",
   "pygments_lexer": "ipython3",
   "version": "3.6.2"
  }
 },
 "nbformat": 4,
 "nbformat_minor": 2
}
