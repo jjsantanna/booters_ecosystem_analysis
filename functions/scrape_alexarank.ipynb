{
 "cells": [
  {
   "cell_type": "code",
   "execution_count": 4,
   "metadata": {
    "collapsed": true
   },
   "outputs": [],
   "source": [
    "import cfscrape\n",
    "from lxml import etree\n",
    "import datetime\n",
    "import os.path\n",
    "\n",
    "from random import choice, randint \n",
    "import time \n",
    "\n",
    "user_agents = [\n",
    "#     'Mozilla/5.0 (Windows; U; Windows NT 5.1; it; rv:1.8.1.11) Gecko/20071127 Firefox/2.0.0.11',\n",
    "#                'Opera/9.25 (Windows NT 5.1; U; en)',\n",
    "#                'Mozilla/5.0 (compatible; Konqueror/3.5; Linux) KHTML/3.5.5 (like Gecko) (Kubuntu)',\n",
    "#                'Mozilla/5.0 (X11; U; Linux i686; en-US; rv:1.8.0.12) Gecko/20070731 Ubuntu/dapper-security Firefox/1.5.0.12',\n",
    "               'Mozilla/5.0 (X11; Linux x86_64) AppleWebKit/537.36 (KHTML, like Gecko) Chrome/43.0.2357.81 Safari/537.36', # this is currently enough for all purposes\n",
    "              ] \n",
    "\n",
    "header = {'Accept': 'text/html,application/xhtml+xml,application/xml;q=0.9',\n",
    "          'Accept-Encoding': 'gzip, deflate, sdch',\n",
    "          'Accept-Language' : 'nl-NL,nl;q=0.8,en-US;q=0.6,en;q=0.4',\n",
    "          'Cache-Control' : 'max-age=0',\n",
    "          'Connection': 'keep-alive',\n",
    "          'User-Agent': choice(user_agents)\n",
    "         }"
   ]
  },
  {
   "cell_type": "code",
   "execution_count": 19,
   "metadata": {
    "collapsed": true
   },
   "outputs": [],
   "source": [
    "def scrape_alexarank(domain, delay=3):\n",
    "    url=\"http://www.alexa.com/siteinfo/?q=\"+domain\n",
    "    scraper = cfscrape.create_scraper()\n",
    "    scraped_html=scraper.get(url,headers=header).content\n",
    "    html_tree = etree.HTML(scraped_html)\n",
    "    \n",
    "    try: \n",
    "        rank_current=float(html_tree.xpath(\"//strong[@class='metrics-data align-vmiddle']/text()\")[1].strip().replace(\",\",\"\"))\n",
    "    except:\n",
    "        rank_current='nan'\n",
    "\n",
    "    rank_3months_variation=\"\"\n",
    "    try:\n",
    "        rank_3months_variation=-1*float(html_tree.xpath(\"//span[@class='align-vmiddle change-wrapper change-up change-r2']/text()\")[0].strip().replace(\",\",\"\"))\n",
    "    except:\n",
    "        pass\n",
    "    try:\n",
    "        rank_3months_variation=float(html_tree.xpath(\"//span[@class='align-vmiddle change-wrapper change-down color-gen2 change-r2']/text()\")[0].strip().replace(\",\",\"\"))\n",
    "    except:\n",
    "        pass\n",
    "    if rank_3months_variation==\"\":\n",
    "        rank_3months_variation='nan'\n",
    "    \n",
    "    if delay:\n",
    "        time.sleep(randint(1,delay))\n",
    "        \n",
    "    if rank_current != 'nan' and rank_3months_variation != 'nan':\n",
    "        return str(rank_current)+\";\"+str(rank_current+rank_3months_variation)\n",
    "    \n",
    "    else:\n",
    "        return str(rank_current)+\";\"+str(rank_3months_variation)"
   ]
  },
  {
   "cell_type": "code",
   "execution_count": 20,
   "metadata": {},
   "outputs": [
    {
     "name": "stdout",
     "output_type": "stream",
     "text": [
      "scrape_alexarank(domain, delay=3):\n",
      "   return 'current_rank; 3monthago_rank'\n"
     ]
    }
   ],
   "source": [
    "print(\"scrape_alexarank(domain, delay=3):\\n   return 'current_rank; 3monthago_rank'\")"
   ]
  }
 ],
 "metadata": {
  "kernelspec": {
   "display_name": "Python 3",
   "language": "python",
   "name": "python3"
  },
  "language_info": {
   "codemirror_mode": {
    "name": "ipython",
    "version": 3
   },
   "file_extension": ".py",
   "mimetype": "text/x-python",
   "name": "python",
   "nbconvert_exporter": "python",
   "pygments_lexer": "ipython3",
   "version": "3.6.2"
  }
 },
 "nbformat": 4,
 "nbformat_minor": 2
}
