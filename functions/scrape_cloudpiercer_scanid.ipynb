{
 "cells": [
  {
   "cell_type": "code",
   "execution_count": 2,
   "metadata": {
    "collapsed": true
   },
   "outputs": [],
   "source": [
    "import cfscrape\n",
    "from lxml import etree\n",
    "import datetime\n",
    "import os.path\n",
    "\n",
    "from random import choice, randint \n",
    "import time \n",
    "\n",
    "user_agents = [\n",
    "#     'Mozilla/5.0 (Windows; U; Windows NT 5.1; it; rv:1.8.1.11) Gecko/20071127 Firefox/2.0.0.11',\n",
    "#                'Opera/9.25 (Windows NT 5.1; U; en)',\n",
    "#                'Mozilla/5.0 (compatible; Konqueror/3.5; Linux) KHTML/3.5.5 (like Gecko) (Kubuntu)',\n",
    "#                'Mozilla/5.0 (X11; U; Linux i686; en-US; rv:1.8.0.12) Gecko/20070731 Ubuntu/dapper-security Firefox/1.5.0.12',\n",
    "               'Mozilla/5.0 (X11; Linux x86_64) AppleWebKit/537.36 (KHTML, like Gecko) Chrome/43.0.2357.81 Safari/537.36', # this is currently enough for all purposes\n",
    "              ] \n",
    "\n",
    "header = {'Accept': 'text/html,application/xhtml+xml,application/xml;q=0.9',\n",
    "          'Accept-Encoding': 'gzip, deflate, sdch',\n",
    "          'Accept-Language' : 'nl-NL,nl;q=0.8,en-US;q=0.6,en;q=0.4',\n",
    "          'Cache-Control' : 'max-age=0',\n",
    "          'Connection': 'keep-alive',\n",
    "          'User-Agent': choice(user_agents)\n",
    "         }"
   ]
  },
  {
   "cell_type": "code",
   "execution_count": 3,
   "metadata": {
    "collapsed": true
   },
   "outputs": [],
   "source": [
    "def scrape_cloudpiercer_scanid(scan_id):\n",
    "    df_cloudpierce_output= pd.DataFrame(columns=['tested_domain_name','ip'])\n",
    "\n",
    "    url=\"https://cloudpiercer.org/scans/\"+scan_id\n",
    "    scraper = cfscrape.create_scraper()\n",
    "    scraped_html=scraper.get(url).content\n",
    "    html_tree = etree.HTML(scraped_html)\n",
    "#     print(etree.tostring(html_tree,pretty_print=True)) ##DEBUG\n",
    "\n",
    "    #Get the tested domain name\n",
    "    for h1 in html_tree.iter('h1'):\n",
    "        tested_domain_name = h1.text.split(': ')[1].strip()\n",
    "\n",
    "    #Get all the IP address from the page\n",
    "    ip_pattern = re.compile(\"\\d{1,3}\\.\\d{1,3}\\.\\d{1,3}\\.\\d{1,3}\")\n",
    "    index=0\n",
    "    for li in html_tree.iter('li'):\n",
    "        if re.findall( r'[0-9]+(?:\\.[0-9]+){3}', str(li.text)):\n",
    "#             print(str(li.text)) ##DEBUG\n",
    "            df_cloudpierce_output.set_value(index, 'tested_domain_name', tested_domain_name)\n",
    "            df_cloudpierce_output.set_value(index, 'ip', re.findall( r'[0-9]+(?:\\.[0-9]+){3}', str(li.text))[0])\n",
    "            index+= 1        \n",
    "    return df_cloudpierce_output"
   ]
  },
  {
   "cell_type": "code",
   "execution_count": null,
   "metadata": {
    "collapsed": true
   },
   "outputs": [],
   "source": []
  }
 ],
 "metadata": {
  "kernelspec": {
   "display_name": "Python 3",
   "language": "python",
   "name": "python3"
  },
  "language_info": {
   "codemirror_mode": {
    "name": "ipython",
    "version": 3
   },
   "file_extension": ".py",
   "mimetype": "text/x-python",
   "name": "python",
   "nbconvert_exporter": "python",
   "pygments_lexer": "ipython3",
   "version": "3.6.2"
  }
 },
 "nbformat": 4,
 "nbformat_minor": 2
}
