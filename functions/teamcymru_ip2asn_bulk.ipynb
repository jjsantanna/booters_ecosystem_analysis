{
 "cells": [
  {
   "cell_type": "code",
   "execution_count": null,
   "metadata": {
    "collapsed": true
   },
   "outputs": [],
   "source": [
    "import subprocess\n",
    "import os.path\n",
    "import random\n",
    "import time "
   ]
  },
  {
   "cell_type": "code",
   "execution_count": 5,
   "metadata": {
    "collapsed": true
   },
   "outputs": [],
   "source": [
    "def teamcymru_ip2asn_bulk(pandaseries_ips, outputfile):\n",
    "    \n",
    "    if (os.path.exists('enrichments/'+outputfile)== False):\n",
    "        iptoasn_response = open('enrichments/'+outputfile, 'w')\n",
    "\n",
    "        #Creating the request file containing a list of IPs\n",
    "        iptoasn_request = open('temp_iptoasn_request.txt', 'w')\n",
    "        iptoasn_request.write('begin\\nverbose\\n')\n",
    "        pd.Series(pandaseries_ips.dropna().unique()).to_csv(iptoasn_request,header=False,index=False,sep=\"\\t\") \n",
    "        iptoasn_request.write('end')\n",
    "        iptoasn_request.close()\n",
    "\n",
    "        #Performing the bulk request\n",
    "        cat = subprocess.Popen(['cat', 'temp_iptoasn_request.txt'], stdout=subprocess.PIPE)\n",
    "        print(cat)\n",
    "        netcat = subprocess.Popen(['gnetcat', 'whois.cymru.com', '43'], stdin=cat.stdout, stdout=iptoasn_response)\n",
    "        print (netcat)\n",
    "        time.sleep(3) #for some reason the poll does not work! This was the way to overcome the waiting time.\n",
    "\n",
    "        #Closing the output file\n",
    "        iptoasn_response.close()\n",
    "        \n",
    "        !rm temp_iptoasn_request.txt\n",
    "    \n",
    "    else:\n",
    "        print(\"The list of domains was already checked.\")"
   ]
  },
  {
   "cell_type": "code",
   "execution_count": 8,
   "metadata": {},
   "outputs": [
    {
     "name": "stdout",
     "output_type": "stream",
     "text": [
      "teamcymru_ip2asn_bulk(pandaseries_ips, outputfile):\n",
      "   writes teamcymru bulk-request output  ('asn', 'ip', 'bgp_prefix', 'country','registry','info_date','as_name')  into outputfile \n",
      "   return None\n"
     ]
    }
   ],
   "source": [
    "print(\"teamcymru_ip2asn_bulk(pandaseries_ips, outputfile):\\n   writes teamcymru bulk-request output  ('asn', 'ip', 'bgp_prefix', 'country','registry','info_date','as_name')  into outputfile \\n   return None\")"
   ]
  },
  {
   "cell_type": "code",
   "execution_count": null,
   "metadata": {
    "collapsed": true
   },
   "outputs": [],
   "source": []
  },
  {
   "cell_type": "code",
   "execution_count": null,
   "metadata": {
    "collapsed": true
   },
   "outputs": [],
   "source": [
    "cat = subprocess.Popen(['cat', 'temp_iptoasn_request.txt'], stdout=subprocess.PIPE)\n",
    "        print(cat)\n",
    "        netcat = subprocess.Popen(['whois', '-h whois.cymru.com', '\" -v 216.90.108.31\"'], stdin=cat.stdout, stdout=iptoasn_response)\n",
    "        print (netcat)\n",
    "        time.sleep(3) "
   ]
  },
  {
   "cell_type": "code",
   "execution_count": null,
   "metadata": {
    "collapsed": true
   },
   "outputs": [],
   "source": [
    "whois -h whois.cymru.com \" -v 216.90.108.31 2005-12-25 13:23:01 GMT\""
   ]
  },
  {
   "cell_type": "code",
   "execution_count": 17,
   "metadata": {},
   "outputs": [],
   "source": [
    "from subprocess import Popen, PIPE\n",
    "import os.path\n",
    "import random\n",
    "import time \n",
    "\n",
    "def teamcymru_ip2asn (ip):\n",
    "    command = 'whois -h whois.cymru.com \" -v ' + ip + '\"'\n",
    "    output,error = subprocess.Popen(command, universal_newlines=True, shell=True, stdout=PIPE, stderr=PIPE).communicate()\n",
    "    return output"
   ]
  },
  {
   "cell_type": "code",
   "execution_count": 18,
   "metadata": {},
   "outputs": [
    {
     "name": "stdout",
     "output_type": "stream",
     "text": [
      "whois -h whois.cymru.com \" -v 130.89.14.205\"\n"
     ]
    },
    {
     "data": {
      "text/plain": [
       "'AS      | IP               | BGP Prefix          | CC | Registry | Allocated  | AS Name\\n1133    | 130.89.14.205    | 130.89.0.0/16       | NL | ripencc  | 1991-04-12 | UTWENTE-AS University Twente, NL\\n'"
      ]
     },
     "execution_count": 18,
     "metadata": {},
     "output_type": "execute_result"
    }
   ],
   "source": [
    "teamcymru_ip2asn('130.89.14.205')"
   ]
  },
  {
   "cell_type": "code",
   "execution_count": null,
   "metadata": {
    "collapsed": true
   },
   "outputs": [],
   "source": [
    "teamcymru_ip2asn"
   ]
  }
 ],
 "metadata": {
  "kernelspec": {
   "display_name": "Python 3",
   "language": "python",
   "name": "python3"
  },
  "language_info": {
   "codemirror_mode": {
    "name": "ipython",
    "version": 3
   },
   "file_extension": ".py",
   "mimetype": "text/x-python",
   "name": "python",
   "nbconvert_exporter": "python",
   "pygments_lexer": "ipython3",
   "version": "3.6.2"
  }
 },
 "nbformat": 4,
 "nbformat_minor": 2
}
